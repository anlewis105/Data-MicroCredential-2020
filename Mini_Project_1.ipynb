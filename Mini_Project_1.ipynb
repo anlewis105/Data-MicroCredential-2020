{
  "nbformat": 4,
  "nbformat_minor": 0,
  "metadata": {
    "colab": {
      "name": "Mini Project 1",
      "provenance": [],
      "collapsed_sections": [],
      "authorship_tag": "ABX9TyPwTPn2xAq6JR0zScyw3sbo",
      "include_colab_link": true
    },
    "kernelspec": {
      "name": "python3",
      "display_name": "Python 3"
    }
  },
  "cells": [
    {
      "cell_type": "markdown",
      "metadata": {
        "id": "view-in-github",
        "colab_type": "text"
      },
      "source": [
        "<a href=\"https://colab.research.google.com/github/anlewis105/Data_analytics/blob/main/Mini_Project_1.ipynb\" target=\"_parent\"><img src=\"https://colab.research.google.com/assets/colab-badge.svg\" alt=\"Open In Colab\"/></a>"
      ]
    },
    {
      "cell_type": "markdown",
      "metadata": {
        "id": "gL5wCy5AXKIM"
      },
      "source": [
        "# **Mini Project**\r\n",
        "Ask the user for a number. Depending on whether the number is even or odd, print out an\r\n",
        "appropriate message to the user. Hint: how does an even / odd number react differently\r\n",
        "when divided by 2?\r\n",
        "\r\n",
        "\r\n",
        "#    Bonus:\r\n",
        "    1. If the number is a multiple of 4, print out a different message.\r\n",
        "    2. Ask the user for two numbers: one number to check (call it num) and one number to divide by (check). If check divides evenly into num, tell that to the user. If not, print a different appropriate message.\r\n",
        "    3. Write a custom function for finding whether the number is even or odd and call it in your main program code.\r\n",
        "\r\n",
        "\r\n",
        "\r\n",
        "\r\n",
        "\r\n",
        "\r\n"
      ]
    },
    {
      "cell_type": "markdown",
      "metadata": {
        "id": "Hodi8znr9tAv"
      },
      "source": [
        "Mini project + alternative"
      ]
    },
    {
      "cell_type": "code",
      "metadata": {
        "colab": {
          "base_uri": "https://localhost:8080/"
        },
        "id": "vru0iIek8kAw",
        "outputId": "2d81ef6a-c9dc-43bb-e788-da25581cccad"
      },
      "source": [
        "n=input(\"number? \")\r\n",
        "n=int(n)\r\n",
        "if (n%2)== 0:\r\n",
        "    print (str(n) + \" is an even number\")\r\n",
        "else:\r\n",
        "    print (str(n) +\" is an odd number\")"
      ],
      "execution_count": 73,
      "outputs": [
        {
          "output_type": "stream",
          "text": [
            "number? 5\n",
            "5 is an odd number\n"
          ],
          "name": "stdout"
        }
      ]
    },
    {
      "cell_type": "code",
      "metadata": {
        "colab": {
          "base_uri": "https://localhost:8080/"
        },
        "id": "wWvyN0KqX_S8",
        "outputId": "1c465366-409e-49b1-9302-66556162c987"
      },
      "source": [
        "def askuser_1(number):\r\n",
        "  if (number %2) ==0:\r\n",
        "    print(str(number) + \" is an even number\")\r\n",
        "  else:\r\n",
        "    print(str(number) +\" is an odd number\") \r\n",
        "askuser_1(5)\r\n",
        "askuser_1(12)"
      ],
      "execution_count": 59,
      "outputs": [
        {
          "output_type": "stream",
          "text": [
            "5 is an odd number\n",
            "12 is an even number\n"
          ],
          "name": "stdout"
        }
      ]
    },
    {
      "cell_type": "markdown",
      "metadata": {
        "id": "C21QPZnf-Rod"
      },
      "source": [
        "Bonus 1 + alternative"
      ]
    },
    {
      "cell_type": "code",
      "metadata": {
        "colab": {
          "base_uri": "https://localhost:8080/"
        },
        "id": "NBzk6ltj-Yz9",
        "outputId": "db51dd11-6681-4c03-8d36-0713257b8a46"
      },
      "source": [
        "n=input(\"number? \")\r\n",
        "n=int(n)\r\n",
        "if (n%4)== 0:\r\n",
        "    print (str(n) + \" is a multilple of 4\")\r\n",
        "else:\r\n",
        "    print (str(n) +\" is not a multiple of 4\")"
      ],
      "execution_count": 74,
      "outputs": [
        {
          "output_type": "stream",
          "text": [
            "number? 12\n",
            "12 is a multilple of 4\n"
          ],
          "name": "stdout"
        }
      ]
    },
    {
      "cell_type": "code",
      "metadata": {
        "colab": {
          "base_uri": "https://localhost:8080/"
        },
        "id": "8ga7hZ5yoER2",
        "outputId": "9db118cb-3d91-44ad-8b13-f7bb2dffc5e6"
      },
      "source": [
        "def askuser_2(number):\r\n",
        "  if (number %4) ==0: \r\n",
        "    print(str(number)+ \" is even and a multiple of 4\") \r\n",
        "  else:\r\n",
        "    print (str(n) +\" is not a multiple of 4\")\r\n",
        "askuser_2(12)\r\n",
        "\r\n"
      ],
      "execution_count": 79,
      "outputs": [
        {
          "output_type": "stream",
          "text": [
            "12 is even and a multiple of 4\n"
          ],
          "name": "stdout"
        }
      ]
    },
    {
      "cell_type": "markdown",
      "metadata": {
        "id": "3McuVbI1_VOw"
      },
      "source": [
        "Bonus 2 + alternative"
      ]
    },
    {
      "cell_type": "code",
      "metadata": {
        "colab": {
          "base_uri": "https://localhost:8080/"
        },
        "id": "S9435Nmh2QIF",
        "outputId": "1b669c21-83b6-46ea-f31f-920aaacc754f"
      },
      "source": [
        "num = int(input(\"num? \"))\r\n",
        "check = int(input(\"check? \"))\r\n",
        "\r\n",
        "if (num%check) ==0:\r\n",
        "    print(\"perfect division!\")\r\n",
        "else:\r\n",
        "    print(\"uneven division! Try again!\")\r\n",
        "  "
      ],
      "execution_count": 84,
      "outputs": [
        {
          "output_type": "stream",
          "text": [
            "num? 10\n",
            "check? 5\n",
            "perfect division!\n"
          ],
          "name": "stdout"
        }
      ]
    },
    {
      "cell_type": "code",
      "metadata": {
        "colab": {
          "base_uri": "https://localhost:8080/"
        },
        "id": "ceN95x1LjrHY",
        "outputId": "cacb32d0-27ee-44d8-8e7e-0fc9c03ca223"
      },
      "source": [
        "def askuser_2(num,check):\r\n",
        "  if (num%check) ==0:\r\n",
        "    print(\"perfect division!\")\r\n",
        "  else:\r\n",
        "    print(\"uneven division! Try again!\")\r\n",
        "askuser_2(10,5)\r\n"
      ],
      "execution_count": 39,
      "outputs": [
        {
          "output_type": "stream",
          "text": [
            "perfect division!\n"
          ],
          "name": "stdout"
        }
      ]
    }
  ]
}
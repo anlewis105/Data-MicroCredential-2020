{
  "nbformat": 4,
  "nbformat_minor": 0,
  "metadata": {
    "colab": {
      "name": "Python Assignment Jan 6th 2021",
      "provenance": [],
      "collapsed_sections": [],
      "authorship_tag": "ABX9TyPo7SnIXPPd9HbzWHJZY3gs",
      "include_colab_link": true
    },
    "kernelspec": {
      "name": "python3",
      "display_name": "Python 3"
    }
  },
  "cells": [
    {
      "cell_type": "markdown",
      "metadata": {
        "id": "view-in-github",
        "colab_type": "text"
      },
      "source": [
        "<a href=\"https://colab.research.google.com/github/anlewis105/Data_analytics/blob/main/Python_Assignment_Jan_6th_2021.ipynb\" target=\"_parent\"><img src=\"https://colab.research.google.com/assets/colab-badge.svg\" alt=\"Open In Colab\"/></a>"
      ]
    },
    {
      "cell_type": "code",
      "metadata": {
        "colab": {
          "base_uri": "https://localhost:8080/"
        },
        "id": "S3UA_5CBjP0N",
        "outputId": "97f0946d-bb7d-408c-bce2-5e4dd29a22d6"
      },
      "source": [
        "greeting_message=\"hello there!\"\r\n",
        "print(greeting_message)"
      ],
      "execution_count": 1,
      "outputs": [
        {
          "output_type": "stream",
          "text": [
            "hello there!\n"
          ],
          "name": "stdout"
        }
      ]
    },
    {
      "cell_type": "code",
      "metadata": {
        "colab": {
          "base_uri": "https://localhost:8080/"
        },
        "id": "6cBUz9cAjhdL",
        "outputId": "de678870-9bcc-42b5-e26f-a59f006bd301"
      },
      "source": [
        "first_name=\"Anna\"\r\n",
        "last_name=\"Chen\"\r\n",
        "email_domain=\"@gmail.com\"\r\n",
        "email_adress= first_name + last_name + email_domain\r\n",
        "print(email_adress)"
      ],
      "execution_count": 2,
      "outputs": [
        {
          "output_type": "stream",
          "text": [
            "AnnaChen@gmail.com\n"
          ],
          "name": "stdout"
        }
      ]
    },
    {
      "cell_type": "code",
      "metadata": {
        "colab": {
          "base_uri": "https://localhost:8080/"
        },
        "id": "GVmet-tCkd5F",
        "outputId": "a67481c6-939d-4c97-ffac-416c83a8df01"
      },
      "source": [
        "name=\"minshan\"\r\n",
        "print(name.upper())\r\n",
        "print(name.lower())"
      ],
      "execution_count": 4,
      "outputs": [
        {
          "output_type": "stream",
          "text": [
            "MINSHAN\n",
            "minshan\n"
          ],
          "name": "stdout"
        }
      ]
    },
    {
      "cell_type": "code",
      "metadata": {
        "colab": {
          "base_uri": "https://localhost:8080/"
        },
        "id": "tUhr9xlOlWgo",
        "outputId": "16601b12-0bb6-48bd-d87c-3d9561064e02"
      },
      "source": [
        "day=\"15\"\r\n",
        "message=\"Hey\"+\" \" + name + \",do you want to hang out on the\" + \" \" + day + \"th of the month?\"\r\n",
        "print(message)"
      ],
      "execution_count": 12,
      "outputs": [
        {
          "output_type": "stream",
          "text": [
            "Hey minshan,do you want to hang out on the 15th of the month?\n"
          ],
          "name": "stdout"
        }
      ]
    }
  ]
}
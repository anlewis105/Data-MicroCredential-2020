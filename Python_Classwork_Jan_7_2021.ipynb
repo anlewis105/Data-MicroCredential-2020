{
  "nbformat": 4,
  "nbformat_minor": 0,
  "metadata": {
    "colab": {
      "name": "Python Classwork Jan 7 2021",
      "provenance": [],
      "collapsed_sections": [],
      "authorship_tag": "ABX9TyNnP/qjCTch5iusGm3vSbKi",
      "include_colab_link": true
    },
    "kernelspec": {
      "name": "python3",
      "display_name": "Python 3"
    }
  },
  "cells": [
    {
      "cell_type": "markdown",
      "metadata": {
        "id": "view-in-github",
        "colab_type": "text"
      },
      "source": [
        "<a href=\"https://colab.research.google.com/github/anlewis105/Data_analytics/blob/main/Python_Classwork_Jan_7_2021.ipynb\" target=\"_parent\"><img src=\"https://colab.research.google.com/assets/colab-badge.svg\" alt=\"Open In Colab\"/></a>"
      ]
    },
    {
      "cell_type": "markdown",
      "metadata": {
        "id": "JWpQ0ayFqpHW"
      },
      "source": [
        "# **Lists**\r\n",
        "\r\n",
        "*   collection of items in a specific order\r\n",
        "*   letters, digits, names, anything\r\n",
        "* must be contained within brackets --> []\r\n",
        "* to access elements within the list, write the name of the list followed by the indec in square brackets.\r\n",
        "* index positions start at 0, not 1\r\n",
        "* to find the access an element in a list via index starting from the backend use [-n] \r\n"
      ]
    },
    {
      "cell_type": "markdown",
      "metadata": {
        "id": "Y0JnXN9vl6hx"
      },
      "source": [
        "Class example"
      ]
    },
    {
      "cell_type": "code",
      "metadata": {
        "colab": {
          "base_uri": "https://localhost:8080/"
        },
        "id": "gsSdfaveg1GK",
        "outputId": "04e5bb4f-1074-42bf-c12a-82b1a75a8a67"
      },
      "source": [
        "CUNYcampusList=['baruch', 'queens', 'hunter', 'city']\r\n",
        "print(CUNYcampusList)"
      ],
      "execution_count": null,
      "outputs": [
        {
          "output_type": "stream",
          "text": [
            "['baruch', 'queens', 'hunter', 'city']\n"
          ],
          "name": "stdout"
        }
      ]
    },
    {
      "cell_type": "markdown",
      "metadata": {
        "id": "-NE7qhtmtCeF"
      },
      "source": [
        "**Try It Yourself (1)**"
      ]
    },
    {
      "cell_type": "code",
      "metadata": {
        "colab": {
          "base_uri": "https://localhost:8080/"
        },
        "id": "Tvavo-01ryXt",
        "outputId": "6ab0bb03-730f-4889-f6dd-600947ded8de"
      },
      "source": [
        "friends= ['Ashley','Sally','John']\r\n",
        "print(friends)\r\n",
        "print(friends[0])\r\n",
        "print(friends[1])\r\n",
        "print(friends[2])\r\n",
        "print(friends[-1])\r\n",
        "print(friends[-2])\r\n",
        "print(friends[-3])"
      ],
      "execution_count": null,
      "outputs": [
        {
          "output_type": "stream",
          "text": [
            "['Ashley', 'Sally', 'John']\n",
            "Ashley\n",
            "Sally\n",
            "John\n",
            "John\n",
            "Sally\n",
            "Ashley\n"
          ],
          "name": "stdout"
        }
      ]
    },
    {
      "cell_type": "code",
      "metadata": {
        "colab": {
          "base_uri": "https://localhost:8080/"
        },
        "id": "_f9ugMHQuR2C",
        "outputId": "942926b2-4405-4262-f44a-6836aaf1c1ec"
      },
      "source": [
        "friends= ['Ashley','Sally','John']\r\n",
        "message=\"Long time no see, \"\r\n",
        "print(message + friends[0])\r\n",
        "print(message+friends[1])\r\n",
        "print(message+friends[2])"
      ],
      "execution_count": null,
      "outputs": [
        {
          "output_type": "stream",
          "text": [
            "Long time no see, Ashley\n",
            "Long time no see, Sally\n",
            "Long time no see, John\n"
          ],
          "name": "stdout"
        }
      ]
    },
    {
      "cell_type": "markdown",
      "metadata": {
        "id": "biXXSeKHkrO0"
      },
      "source": [
        "**Modifying Lists**\r\n",
        "\r\n",
        "\r\n",
        "*   appending more elements--> variable.append('new info')\r\n",
        "*   inserting more elements--> variable.insert(index num,'new info')\r\n",
        "* removing elements--> del variable[index num]\r\n",
        "*or variable.remove('element')\r\n",
        "\r\n"
      ]
    },
    {
      "cell_type": "markdown",
      "metadata": {
        "id": "7wH5aReBl-vu"
      },
      "source": [
        "class example"
      ]
    },
    {
      "cell_type": "code",
      "metadata": {
        "colab": {
          "base_uri": "https://localhost:8080/"
        },
        "id": "Gv1kHn40ykSM",
        "outputId": "35a34834-2e24-4bc5-d997-3332a97d979b"
      },
      "source": [
        "friends= ['Ashley','Sally','John']\r\n",
        "friends[1]= 'David'\r\n",
        "print(friends)\r\n",
        "friendsnew=['chloe','matthew']\r\n",
        "friends.append('chloe')\r\n",
        "print(friends)"
      ],
      "execution_count": null,
      "outputs": [
        {
          "output_type": "stream",
          "text": [
            "['Ashley', 'David', 'John']\n",
            "['Ashley', 'David', 'John', 'chloe']\n"
          ],
          "name": "stdout"
        }
      ]
    },
    {
      "cell_type": "code",
      "metadata": {
        "colab": {
          "base_uri": "https://localhost:8080/"
        },
        "id": "A6Ba8FOw14Rx",
        "outputId": "e8a6544f-93f5-4b66-b375-ae3736d3373a"
      },
      "source": [
        "friends= ['Ashley','Sally','John']\r\n",
        "del friends[2]\r\n",
        "print(friends)"
      ],
      "execution_count": null,
      "outputs": [
        {
          "output_type": "stream",
          "text": [
            "['Ashley', 'Sally']\n"
          ],
          "name": "stdout"
        }
      ]
    },
    {
      "cell_type": "code",
      "metadata": {
        "colab": {
          "base_uri": "https://localhost:8080/"
        },
        "id": "huLBugpZ4Ba5",
        "outputId": "8d7fbbf2-0320-4a42-fb9c-546108f1d01e"
      },
      "source": [
        "friends= ['Ashley','Sally','John']\r\n",
        "print(friends)\r\n",
        "friends.remove(\"Ashley\")\r\n",
        "print(friends)"
      ],
      "execution_count": null,
      "outputs": [
        {
          "output_type": "stream",
          "text": [
            "['Ashley', 'Sally', 'John']\n",
            "['Sally', 'John']\n"
          ],
          "name": "stdout"
        }
      ]
    },
    {
      "cell_type": "markdown",
      "metadata": {
        "id": "gJFjlakb5HRl"
      },
      "source": [
        "**Try It Yourself (2)**"
      ]
    },
    {
      "cell_type": "code",
      "metadata": {
        "colab": {
          "base_uri": "https://localhost:8080/"
        },
        "id": "vL4vwv6-5Pgu",
        "outputId": "bc5c9aaf-4cf1-400b-9259-5f4b8889f8c7"
      },
      "source": [
        "fruits=['apples','oranges', 'pears']\r\n",
        "print(fruits)"
      ],
      "execution_count": null,
      "outputs": [
        {
          "output_type": "stream",
          "text": [
            "['apples', 'oranges', 'pears']\n"
          ],
          "name": "stdout"
        }
      ]
    },
    {
      "cell_type": "code",
      "metadata": {
        "colab": {
          "base_uri": "https://localhost:8080/"
        },
        "id": "vvrGowLB5kqn",
        "outputId": "814ef595-d0bc-42f3-c68d-6268496f6d66"
      },
      "source": [
        "fruits.append('papayas')\r\n",
        "print(fruits)"
      ],
      "execution_count": null,
      "outputs": [
        {
          "output_type": "stream",
          "text": [
            "['apples', 'oranges', 'pears', 'papayas']\n"
          ],
          "name": "stdout"
        }
      ]
    },
    {
      "cell_type": "code",
      "metadata": {
        "colab": {
          "base_uri": "https://localhost:8080/"
        },
        "id": "zGZc-Pwg5vYr",
        "outputId": "a71d79a0-1ae7-43fc-eec5-23153aca8d86"
      },
      "source": [
        "del fruits[0]\r\n",
        "print(fruits)"
      ],
      "execution_count": null,
      "outputs": [
        {
          "output_type": "stream",
          "text": [
            "['oranges', 'pears', 'papayas']\n"
          ],
          "name": "stdout"
        }
      ]
    },
    {
      "cell_type": "code",
      "metadata": {
        "colab": {
          "base_uri": "https://localhost:8080/"
        },
        "id": "MTfD0but57H9",
        "outputId": "2186be02-82d7-462b-8459-8252eed6f5fe"
      },
      "source": [
        "fruits.remove('oranges')\r\n",
        "print(fruits)"
      ],
      "execution_count": null,
      "outputs": [
        {
          "output_type": "stream",
          "text": [
            "['pears', 'papayas']\n"
          ],
          "name": "stdout"
        }
      ]
    },
    {
      "cell_type": "code",
      "metadata": {
        "colab": {
          "base_uri": "https://localhost:8080/"
        },
        "id": "8M6d1B7PnatT",
        "outputId": "eb3eb1c4-4938-4b0a-8cde-86e236a27b52"
      },
      "source": [
        "fruits=['apples','oranges', 'pears']\r\n",
        "fruits.insert(0,'banana')\r\n",
        "print(fruits)"
      ],
      "execution_count": null,
      "outputs": [
        {
          "output_type": "stream",
          "text": [
            "['banana', 'apples', 'oranges', 'pears']\n"
          ],
          "name": "stdout"
        }
      ]
    },
    {
      "cell_type": "markdown",
      "metadata": {
        "id": "rfV4eSmF6wjk"
      },
      "source": [
        "**Sorting a list**\r\n",
        "\r\n",
        "\r\n",
        "*   variable.sort()\r\n",
        "*   reverse sort--> variable.sort(reverse=True)\r\n",
        "*length of the list--> len(variable)\r\n",
        "*temporarily sort list--> print(sorted(variable))\r\n",
        "\r\n"
      ]
    },
    {
      "cell_type": "markdown",
      "metadata": {
        "id": "LZaX8DyRo0W8"
      },
      "source": [
        "Class example"
      ]
    },
    {
      "cell_type": "code",
      "metadata": {
        "colab": {
          "base_uri": "https://localhost:8080/"
        },
        "id": "TrUz5LFO66Ju",
        "outputId": "bbddc6d7-276a-4f1e-8606-b8507c0a3982"
      },
      "source": [
        "CUNYcampusList\r\n",
        "print(CUNYcampusList)\r\n",
        "CUNYcampusList.sort()\r\n",
        "print(CUNYcampusList)"
      ],
      "execution_count": null,
      "outputs": [
        {
          "output_type": "stream",
          "text": [
            "['Baruch', 'Queens', 'Hunter', 'City']\n",
            "['Baruch', 'City', 'Hunter', 'Queens']\n"
          ],
          "name": "stdout"
        }
      ]
    },
    {
      "cell_type": "code",
      "metadata": {
        "colab": {
          "base_uri": "https://localhost:8080/"
        },
        "id": "5f-dl3-T7aOB",
        "outputId": "b6967db5-00bb-4ee5-8dbd-9bb13e0220d1"
      },
      "source": [
        "print(CUNYcampusList)\r\n",
        "CUNYcampusList.sort(reverse=True)\r\n",
        "print(CUNYcampusList)"
      ],
      "execution_count": null,
      "outputs": [
        {
          "output_type": "stream",
          "text": [
            "['Baruch', 'City', 'Hunter', 'Queens']\n",
            "['Queens', 'Hunter', 'City', 'Baruch']\n"
          ],
          "name": "stdout"
        }
      ]
    },
    {
      "cell_type": "code",
      "metadata": {
        "colab": {
          "base_uri": "https://localhost:8080/"
        },
        "id": "WwqOH2OH75KL",
        "outputId": "9f618fe2-790e-48af-e211-70e66b611b67"
      },
      "source": [
        "len(CUNYcampusList)"
      ],
      "execution_count": null,
      "outputs": [
        {
          "output_type": "execute_result",
          "data": {
            "text/plain": [
              "4"
            ]
          },
          "metadata": {
            "tags": []
          },
          "execution_count": 44
        }
      ]
    },
    {
      "cell_type": "markdown",
      "metadata": {
        "id": "Xsk8lfM28ct3"
      },
      "source": [
        "** Try It Yourself (3)**"
      ]
    },
    {
      "cell_type": "code",
      "metadata": {
        "colab": {
          "base_uri": "https://localhost:8080/"
        },
        "id": "VXXxvtIN8gOq",
        "outputId": "4655672c-d431-40df-add0-26541943e3d2"
      },
      "source": [
        "travel_list=['California', 'Chile', 'Mexico', 'Argentina', 'Maine']\r\n",
        "print(travel_list)"
      ],
      "execution_count": null,
      "outputs": [
        {
          "output_type": "stream",
          "text": [
            "['California', 'Chile', 'Mexico', 'Argentina', 'Maine']\n"
          ],
          "name": "stdout"
        }
      ]
    },
    {
      "cell_type": "code",
      "metadata": {
        "colab": {
          "base_uri": "https://localhost:8080/"
        },
        "id": "uu7PuIGs_mt-",
        "outputId": "29fe8ec7-0b12-454d-e3b3-4f659fe3157f"
      },
      "source": [
        "travel_list.sort()\r\n",
        "print(travel_list)"
      ],
      "execution_count": null,
      "outputs": [
        {
          "output_type": "stream",
          "text": [
            "['Argentina', 'California', 'Chile', 'Maine', 'Mexico']\n"
          ],
          "name": "stdout"
        }
      ]
    },
    {
      "cell_type": "code",
      "metadata": {
        "colab": {
          "base_uri": "https://localhost:8080/"
        },
        "id": "3KvvPsDv_vo0",
        "outputId": "74f5a5ca-85f4-4324-f9b6-072eb0e1b37a"
      },
      "source": [
        "travel_list.sort(reverse=True)\r\n",
        "print(travel_list)"
      ],
      "execution_count": null,
      "outputs": [
        {
          "output_type": "stream",
          "text": [
            "['Mexico', 'Maine', 'Chile', 'California', 'Argentina']\n"
          ],
          "name": "stdout"
        }
      ]
    },
    {
      "cell_type": "code",
      "metadata": {
        "colab": {
          "base_uri": "https://localhost:8080/"
        },
        "id": "pLwwBg-__3zA",
        "outputId": "e81ff421-93a5-452a-ac5d-5cee21834572"
      },
      "source": [
        "len(travel_list)"
      ],
      "execution_count": null,
      "outputs": [
        {
          "output_type": "execute_result",
          "data": {
            "text/plain": [
              "5"
            ]
          },
          "metadata": {
            "tags": []
          },
          "execution_count": 50
        }
      ]
    },
    {
      "cell_type": "code",
      "metadata": {
        "colab": {
          "base_uri": "https://localhost:8080/"
        },
        "id": "jT4V2qNVBave",
        "outputId": "f06737b8-b194-45cc-f21e-2b8ef164d757"
      },
      "source": [
        "print(sorted(travel_list))\r\n",
        "print(travel_list)"
      ],
      "execution_count": null,
      "outputs": [
        {
          "output_type": "stream",
          "text": [
            "['Argentina', 'California', 'Chile', 'Maine', 'Mexico']\n",
            "['Mexico', 'Maine', 'Chile', 'California', 'Argentina']\n"
          ],
          "name": "stdout"
        }
      ]
    },
    {
      "cell_type": "markdown",
      "metadata": {
        "id": "tirsAcuSqfZf"
      },
      "source": [
        "# **Looping**\r\n",
        "\r\n",
        "*   perform the same task over and over\r\n",
        "*   \"for loop\" :\r\n",
        "*can be used to loop through and print letters in a string\r\n",
        "* Structure:\r\n",
        "              for variable in 'string': \r\n",
        "                print(variable)\r\n",
        "* can also list through items\r\n",
        "* Structure:\r\n",
        "      for variable in listname:\r\n",
        "        print(variable)\r\n",
        "*Adding onto a previous loop\r\n",
        "* Structure:\r\n",
        "      for variable in listname:\r\n",
        "        print(variable + \"string\")\r\n"
      ]
    },
    {
      "cell_type": "markdown",
      "metadata": {
        "id": "H_O8y8TWD2ny"
      },
      "source": [
        "**Try It Yourself (3)**\r\n",
        "* Create your own for loop, using all of the techniques"
      ]
    },
    {
      "cell_type": "code",
      "metadata": {
        "colab": {
          "base_uri": "https://localhost:8080/"
        },
        "id": "awp1aucYDxkX",
        "outputId": "9878018d-8064-4cd7-af13-a66b0cbf2004"
      },
      "source": [
        "for x in 'foods':\r\n",
        "  print(x)"
      ],
      "execution_count": null,
      "outputs": [
        {
          "output_type": "stream",
          "text": [
            "f\n",
            "o\n",
            "o\n",
            "d\n",
            "s\n"
          ],
          "name": "stdout"
        }
      ]
    },
    {
      "cell_type": "code",
      "metadata": {
        "colab": {
          "base_uri": "https://localhost:8080/"
        },
        "id": "Uu5K6ScxFSKH",
        "outputId": "b6a9b5d6-1bfe-4b43-b00e-6960ad7f3f24"
      },
      "source": [
        "foods=['pizza', 'pasta', 'chocolate', 'cake','cheese']\r\n",
        "for x in foods:\r\n",
        "  print(x)"
      ],
      "execution_count": null,
      "outputs": [
        {
          "output_type": "stream",
          "text": [
            "pizza\n",
            "pasta\n",
            "chocolate\n",
            "cake\n",
            "cheese\n"
          ],
          "name": "stdout"
        }
      ]
    },
    {
      "cell_type": "code",
      "metadata": {
        "colab": {
          "base_uri": "https://localhost:8080/"
        },
        "id": "jGWEc7loFrPY",
        "outputId": "b0491022-a461-4ab5-9179-40d0cc254f5e"
      },
      "source": [
        "foods=['pizza', 'pasta', 'chocolate', 'cake','cheese']\r\n",
        "for x in foods:\r\n",
        "  print(x + ' ' +  'is one of my favorite foods, ')\r\n",
        "print(',but I enjoy chocolate the most! ')"
      ],
      "execution_count": null,
      "outputs": [
        {
          "output_type": "stream",
          "text": [
            "pizza is one of my favorite foods, \n",
            "pasta is one of my favorite foods, \n",
            "chocolate is one of my favorite foods, \n",
            "cake is one of my favorite foods, \n",
            "cheese is one of my favorite foods, \n",
            ",but I enjoy chocolate the most! \n"
          ],
          "name": "stdout"
        }
      ]
    },
    {
      "cell_type": "markdown",
      "metadata": {
        "id": "N-HLafHpJKIu"
      },
      "source": [
        "**Loops with numbers**\r\n",
        " \r\n",
        "* Range function allows you to quickly print out a series of numbers\r\n",
        "*structure:\r\n",
        "      for variable in range (num1,num2):\r\n",
        "        print(variable)\r\n",
        "* Range can also be used to make a list without the use of brackets\r\n",
        "*structure:\r\n",
        "      variable= list(range(num1,num2))\r\n",
        "      print(variable)\r\n",
        "        *no indent on second line \r\n",
        "*use range to list factors of a set of numbers\r\n",
        "*structure:\r\n",
        "      variable= list(range(num1,num2,factor))\r\n",
        "      print(variable)\r\n",
        "        *for example, adding a factor of 2 , will print only the even numbers present in a range of numbers\r\n",
        "\r\n",
        "**Statistics with python**\r\n",
        "\r\n",
        "*   structure:\r\n",
        "        variable= list(range(num1,num2,factor(optional))\r\n",
        "        print(variable)\r\n",
        "        min(variable)--> smallest num in list\r\n",
        "        max(variable)--> largest num in list\r\n",
        "        sum(variable)--> sum of all num in list\r\n",
        "\r\n"
      ]
    },
    {
      "cell_type": "markdown",
      "metadata": {
        "id": "pCBuuiTHWqFh"
      },
      "source": [
        "**Try It Yourself (4)**\r\n",
        "\r\n",
        "\r\n",
        "*   use a for loop to print numbers 1-10\r\n",
        "*   use the range function to make a list of odd numbers from 1-20. use a for loop to print out each number\r\n",
        "* use a for loop to print even numbers from 1-20\r\n",
        "\r\n"
      ]
    },
    {
      "cell_type": "code",
      "metadata": {
        "colab": {
          "base_uri": "https://localhost:8080/"
        },
        "id": "AKChmd26XZJY",
        "outputId": "8c9850e5-b237-4b8e-f4d9-872568a9796f"
      },
      "source": [
        "for num in range(1,11):\r\n",
        "  print(num)"
      ],
      "execution_count": null,
      "outputs": [
        {
          "output_type": "stream",
          "text": [
            "1\n",
            "2\n",
            "3\n",
            "4\n",
            "5\n",
            "6\n",
            "7\n",
            "8\n",
            "9\n",
            "10\n"
          ],
          "name": "stdout"
        }
      ]
    },
    {
      "cell_type": "code",
      "metadata": {
        "colab": {
          "base_uri": "https://localhost:8080/"
        },
        "id": "kjtkZA-QX3YT",
        "outputId": "4030f345-3a69-4128-b996-1206c208a0bf"
      },
      "source": [
        "for num in range(1,21,num+1):\r\n",
        "  print(num)"
      ],
      "execution_count": null,
      "outputs": [
        {
          "output_type": "stream",
          "text": [
            "1\n",
            "3\n",
            "5\n",
            "7\n",
            "9\n",
            "11\n",
            "13\n",
            "15\n",
            "17\n",
            "19\n"
          ],
          "name": "stdout"
        }
      ]
    },
    {
      "cell_type": "code",
      "metadata": {
        "colab": {
          "base_uri": "https://localhost:8080/"
        },
        "id": "mxFvplQzZFFR",
        "outputId": "e18e73a8-94f3-4982-f3f0-6112a5d8bb69"
      },
      "source": [
        "for num in range(0,21,2):\r\n",
        "  print(num)"
      ],
      "execution_count": null,
      "outputs": [
        {
          "output_type": "stream",
          "text": [
            "0\n",
            "2\n",
            "4\n",
            "6\n",
            "8\n",
            "10\n",
            "12\n",
            "14\n",
            "16\n",
            "18\n",
            "20\n"
          ],
          "name": "stdout"
        }
      ]
    },
    {
      "cell_type": "markdown",
      "metadata": {
        "id": "aITqqMSjZtCs"
      },
      "source": [
        "# Slicing\r\n",
        "\r\n",
        "\r\n",
        "*   slicing through a list to print out only a range of the elements invluded in the list\r\n",
        "*structure \r\n",
        "      print(variable[num1:num2])\r\n",
        "*  Looping through the slice\r\n",
        "*structure:\r\n",
        "      print('string')\r\n",
        "      for variable in listname[:num]:\r\n",
        "      print(variable)\r\n",
        "\r\n"
      ]
    }
  ]
}